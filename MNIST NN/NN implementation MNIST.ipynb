{
 "cells": [
  {
   "cell_type": "code",
   "execution_count": 6,
   "metadata": {
    "collapsed": false
   },
   "outputs": [],
   "source": [
    "class Neural_Network(object):\n",
    "    def __init__(self, inputLayerSize = 784, outputLayerSize = 10, hiddenLayerSize1 = 6, hiddenLayerSize2 = 6):\n",
    "        self.inputLayerSize = inputLayerSize\n",
    "        self.outputLayerSize = outputLayerSize\n",
    "        self.hiddenLayerSize1 = hiddenLayerSize1\n",
    "        self.hiddenLayerSize2 = hiddenLayerSize2\n",
    "        \n",
    "        self.W1 = np.random.randn(self.inputLayerSize, self.hiddenLayerSize1)\n",
    "        self.W2 = np.random.randn(self.hiddenLayerSize1, self.hiddenLayerSize2)\n",
    "        self.W3 = np.random.randn(self.hiddenLayerSize2, self.outputLayerSize)\n",
    "    \n",
    "    def forward(self, X):\n",
    "        self.z2 = np.dot(X, self.W1)\n",
    "        self.a2 = self.sigmoid(self.z2)\n",
    "        self.z3 = np.dot(self.a2, self.W2)\n",
    "        self.a3 = self.sigmoid(self.z3)\n",
    "        self.z4 = np.dot(self.a3, self.W3)\n",
    "        yHat = self.sigmoid(self.z4)\n",
    "        return yHat\n",
    "        \n",
    "    def sigmoid(self, z):\n",
    "        return 1/(1+np.e**(-z))\n",
    "    \n",
    "    def sigmoidPrime(self, z):\n",
    "        return self.sigmoid(z)*(1-self.sigmoid(z))\n",
    "    \n",
    "    def costfunction(self, X, y):\n",
    "        self.yHat = self.forward(X)\n",
    "        J = 0.5 * np.sum((y - self.yHat)**2)\n",
    "        return J, self.validate(y, self.yHat)\n",
    "    \n",
    "    def costfunctionprime(self, X, y):\n",
    "        # Backprop last weight connecting hiddenLayer2 to output layer\n",
    "        self.yHat = self.forward(X)\n",
    "        dJdyHat = -(y-self.yHat)\n",
    "        dyHatdZ4 = self.sigmoidPrime(self.z4)\n",
    "        dZ4dW3 = self.a3\n",
    "        delta4 = np.multiply(dJdyHat, dyHatdZ4)\n",
    "        dJdW3 = np.dot(dZ4dW3.T, delta4)\n",
    "        \n",
    "        # Weight for hiddenLayer1 to hiddenLayer2\n",
    "        dyHatdZ3 = self.sigmoidPrime(self.z3)\n",
    "        dZ3dW2 = self.a2\n",
    "        delta3 = np.multiply(np.dot(delta4, self.W3.T), dyHatdZ3)\n",
    "        dJdW2 = np.dot(dZ3dW2.T, delta3)\n",
    "        \n",
    "        # Weight for inputLayer to hiddenLayer1\n",
    "        dyHatdZ2 = self.sigmoidPrime(self.z2)\n",
    "        delta2 = np.multiply(np.dot(delta3, self.W2.T), dyHatdZ2)\n",
    "        dJdW1 = np.dot(X.T, delta2)\n",
    "             \n",
    "        return dJdW1, dJdW2, dJdW3\n",
    "    \n",
    "    # Compute the accuracy of prediction\n",
    "    def validate(self, y, y_hat):\n",
    "        y = vectorize_y(y)\n",
    "        y_hat = vectorize_y(y_hat)\n",
    "        diff = y - y_hat\n",
    "        return (len(diff) - np.count_nonzero(diff)) * 1./len(diff)\n",
    "    \n",
    "    # Implement gradient descent\n",
    "    def train(self, X, y, learning_rate = 1, num_iteration = 20, step_size = 10):\n",
    "        import pdb; pdb.set_trace()\n",
    "        X_train, X_validate = X[:50000], X[50000:]\n",
    "        Y_train, Y_validate = y[:50000], y[50000:]\n",
    "           \n",
    "        for _ in range(num_iteration):\n",
    "            for i in range(0, X_train.shape[0], step_size):\n",
    "                dJdW1, dJdW2, dJdW3 = self.costfunctionprime(\n",
    "                    X_train[i:i+step_size], Y_train[i:i+step_size])\n",
    "                self.W1 -= learning_rate * dJdW1\n",
    "                self.W2 -= learning_rate * dJdW2\n",
    "                self.W3 -= learning_rate * dJdW3\n",
    "\n",
    "            train_cost, train_acc = self.costfunction(X_train, Y_train)\n",
    "            val_cost, val_acc = self.costfunction(X_validate, Y_validate)\n",
    "            print \"[TRAIN] Cost: {0} Acc: {1} | [VAL] Cost: {2} Acc: {3}\".format(train_cost, train_acc, val_cost, val_acc)      \n",
    "        "
   ]
  },
  {
   "cell_type": "code",
   "execution_count": 7,
   "metadata": {
    "collapsed": false
   },
   "outputs": [],
   "source": [
    "\"\"\"\n",
    "Methods related to working with digits data\n",
    "\"\"\"\n",
    "\n",
    "from scipy.io import loadmat\n",
    "import numpy as np\n",
    "from sklearn import preprocessing\n",
    "\n",
    "TRAIN_DATA = \"dataset/train.mat\"\n",
    "TEST_DATA = \"dataset/test.mat\"\n",
    "\n",
    "def load_train_data():\n",
    "    data = loadmat(TRAIN_DATA)\n",
    "    train_data = get_samples_to_features(data)\n",
    "    train_data = train_data.astype(float)\n",
    "    train_data = preprocessing.normalize(train_data)\n",
    "#     train_data = append_bias(train_data)\n",
    "    train_labels = get_labels(data)\n",
    "    train_labels = vectorize_labels(train_labels)\n",
    "    train_data, train_labels = random_shuffle_data(train_data, train_labels)\n",
    "    return train_data, train_labels\n",
    "\n",
    "def load_test_data():\n",
    "    test_data = loadmat(TEST_DATA)\n",
    "    test_data = get_samples_to_features_from_train_images(test_data[\"test_images\"], num_samples=10000)\n",
    "    test_data = test_data.astype(float)\n",
    "    test_data = preprocessing.normalize(test_data)\n",
    "#     test_data = append_bias(test_data)\n",
    "    return test_data\n",
    "\n",
    "def random_shuffle_data(train_data, train_labels, print_shuffled_indices=True):\n",
    "    shuffled_indices = np.arange(train_data.shape[0])\n",
    "    np.random.shuffle(shuffled_indices)\n",
    "    if print_shuffled_indices:\n",
    "        print shuffled_indices\n",
    "    return train_data[shuffled_indices], train_labels[shuffled_indices]\n",
    "\n",
    "def get_samples_to_features_from_train_images(images, num_samples=60000):\n",
    "    \"\"\"\n",
    "        Images is 28 x 28 x 60000 array\n",
    "    \"\"\"\n",
    "    # 784 x 60000\n",
    "    pixels_features_to_samples = np.reshape(images, (784, num_samples))\n",
    "    # 60000 x 784\n",
    "    samples_to_features = np.swapaxes(pixels_features_to_samples, 0, 1)\n",
    "    return samples_to_features\n",
    "\n",
    "def get_samples_to_features(train_data, key=\"train_images\"):\n",
    "    images = train_data[key]\n",
    "    return get_samples_to_features_from_train_images(images)\n",
    "\n",
    "def get_labels(train_data):\n",
    "    return np.array([item[0] for item in train_data[\"train_labels\"]])\n",
    "\n",
    "def vectorize_labels(train_labels, num_output=10):\n",
    "    a = np.zeros((train_labels.shape[0], num_output))\n",
    "    for i in range(len(train_labels)):\n",
    "        a[i][train_labels[i]] = 1\n",
    "    return a\n",
    "\n",
    "def vectorize_y(Y, num_output=10):\n",
    "    return np.array([max(range(num_output), key=lambda x: sample[x]) for sample in Y])\n"
   ]
  },
  {
   "cell_type": "code",
   "execution_count": 8,
   "metadata": {
    "collapsed": false
   },
   "outputs": [],
   "source": [
    "NN = Neural_Network()"
   ]
  },
  {
   "cell_type": "code",
   "execution_count": null,
   "metadata": {
    "collapsed": false
   },
   "outputs": [
    {
     "name": "stdout",
     "output_type": "stream",
     "text": [
      "[18315 20934 36743 ..., 41161 54069 40308]\n"
     ]
    }
   ],
   "source": [
    "train_data, train_label = load_train_data()"
   ]
  },
  {
   "cell_type": "code",
   "execution_count": null,
   "metadata": {
    "collapsed": false,
    "scrolled": false
   },
   "outputs": [
    {
     "name": "stdout",
     "output_type": "stream",
     "text": [
      "> <ipython-input-6-a19d2d35ead8>(64)train()\n",
      "-> X_train, X_validate = X[:50000], X[50000:]\n",
      "(Pdb) n\n",
      "> <ipython-input-6-a19d2d35ead8>(65)train()\n",
      "-> Y_train, Y_validate = y[:50000], y[50000:]\n",
      "(Pdb) n\n",
      "> <ipython-input-6-a19d2d35ead8>(67)train()\n",
      "-> for _ in range(num_iteration):\n",
      "(Pdb) n\n",
      "> <ipython-input-6-a19d2d35ead8>(68)train()\n",
      "-> for i in range(0, X_train.shape[0], step_size):\n",
      "(Pdb) n\n",
      "> <ipython-input-6-a19d2d35ead8>(69)train()\n",
      "-> dJdW1, dJdW2, dJdW3 = self.costfunctionprime(\n",
      "(Pdb) n\n",
      "> <ipython-input-6-a19d2d35ead8>(70)train()\n",
      "-> X_train[i:i+step_size], Y_train[i:i+step_size])\n",
      "(Pdb) n\n",
      "> <ipython-input-6-a19d2d35ead8>(71)train()\n",
      "-> self.W1 -= learning_rate * dJdW1\n",
      "(Pdb) n\n",
      "> <ipython-input-6-a19d2d35ead8>(72)train()\n",
      "-> self.W2 -= learning_rate * dJdW2\n",
      "(Pdb) n\n",
      "> <ipython-input-6-a19d2d35ead8>(73)train()\n",
      "-> self.W3 -= learning_rate * dJdW3\n",
      "(Pdb) n\n",
      "> <ipython-input-6-a19d2d35ead8>(68)train()\n",
      "-> for i in range(0, X_train.shape[0], step_size):\n",
      "(Pdb) n\n",
      "> <ipython-input-6-a19d2d35ead8>(69)train()\n",
      "-> dJdW1, dJdW2, dJdW3 = self.costfunctionprime(\n",
      "(Pdb) n\n",
      "> <ipython-input-6-a19d2d35ead8>(70)train()\n",
      "-> X_train[i:i+step_size], Y_train[i:i+step_size])\n",
      "(Pdb) n\n",
      "> <ipython-input-6-a19d2d35ead8>(71)train()\n",
      "-> self.W1 -= learning_rate * dJdW1\n",
      "(Pdb) n\n",
      "> <ipython-input-6-a19d2d35ead8>(72)train()\n",
      "-> self.W2 -= learning_rate * dJdW2\n",
      "(Pdb) n\n",
      "> <ipython-input-6-a19d2d35ead8>(73)train()\n",
      "-> self.W3 -= learning_rate * dJdW3\n",
      "(Pdb) n\n",
      "> <ipython-input-6-a19d2d35ead8>(68)train()\n",
      "-> for i in range(0, X_train.shape[0], step_size):\n"
     ]
    }
   ],
   "source": [
    "NN.train(train_data, train_label)"
   ]
  },
  {
   "cell_type": "code",
   "execution_count": null,
   "metadata": {
    "collapsed": true
   },
   "outputs": [],
   "source": []
  }
 ],
 "metadata": {
  "kernelspec": {
   "display_name": "Python 2",
   "language": "python",
   "name": "python2"
  },
  "language_info": {
   "codemirror_mode": {
    "name": "ipython",
    "version": 2
   },
   "file_extension": ".py",
   "mimetype": "text/x-python",
   "name": "python",
   "nbconvert_exporter": "python",
   "pygments_lexer": "ipython2",
   "version": "2.7.11"
  }
 },
 "nbformat": 4,
 "nbformat_minor": 0
}
